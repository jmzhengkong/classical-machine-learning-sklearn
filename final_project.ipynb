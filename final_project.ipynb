{
 "cells": [
  {
   "cell_type": "code",
   "execution_count": 1,
   "metadata": {},
   "outputs": [],
   "source": [
    "import numpy as np\n",
    "import pandas as pd\n",
    "import matplotlib.pyplot as plt\n",
    "import seaborn as sns\n",
    "import scipy.stats as st\n",
    "%matplotlib inline\n",
    "plt.style.use('fivethirtyeight')"
   ]
  },
  {
   "cell_type": "code",
   "execution_count": 2,
   "metadata": {},
   "outputs": [
    {
     "name": "stdout",
     "output_type": "stream",
     "text": [
      "Load data\n"
     ]
    },
    {
     "data": {
      "text/html": [
       "<div>\n",
       "<style scoped>\n",
       "    .dataframe tbody tr th:only-of-type {\n",
       "        vertical-align: middle;\n",
       "    }\n",
       "\n",
       "    .dataframe tbody tr th {\n",
       "        vertical-align: top;\n",
       "    }\n",
       "\n",
       "    .dataframe thead th {\n",
       "        text-align: right;\n",
       "    }\n",
       "</style>\n",
       "<table border=\"1\" class=\"dataframe\">\n",
       "  <thead>\n",
       "    <tr style=\"text-align: right;\">\n",
       "      <th></th>\n",
       "      <th>1stFlrSF</th>\n",
       "      <th>2ndFlrSF</th>\n",
       "      <th>Alley</th>\n",
       "      <th>BsmtCond</th>\n",
       "      <th>BsmtExposure</th>\n",
       "      <th>BsmtFinSF1</th>\n",
       "      <th>BsmtFinType1</th>\n",
       "      <th>BsmtFullBath</th>\n",
       "      <th>BsmtQual</th>\n",
       "      <th>BsmtUnfSF</th>\n",
       "      <th>...</th>\n",
       "      <th>MSZoning_C (all)</th>\n",
       "      <th>MSZoning_RL</th>\n",
       "      <th>Neighborhood_ClearCr</th>\n",
       "      <th>Neighborhood_Crawfor</th>\n",
       "      <th>Neighborhood_Edwards</th>\n",
       "      <th>Neighborhood_StoneBr</th>\n",
       "      <th>SaleCondition_Abnorml</th>\n",
       "      <th>SaleCondition_Family</th>\n",
       "      <th>SaleType_New</th>\n",
       "      <th>SalePrice</th>\n",
       "    </tr>\n",
       "  </thead>\n",
       "  <tbody>\n",
       "    <tr>\n",
       "      <th>0</th>\n",
       "      <td>11.692623</td>\n",
       "      <td>11.686189</td>\n",
       "      <td>0.730463</td>\n",
       "      <td>1.820334</td>\n",
       "      <td>1.540963</td>\n",
       "      <td>11.170327</td>\n",
       "      <td>1.194318</td>\n",
       "      <td>0.730463</td>\n",
       "      <td>1.194318</td>\n",
       "      <td>7.483296</td>\n",
       "      <td>...</td>\n",
       "      <td>0.0</td>\n",
       "      <td>1.0</td>\n",
       "      <td>0.0</td>\n",
       "      <td>0.0</td>\n",
       "      <td>0.0</td>\n",
       "      <td>0.0</td>\n",
       "      <td>0.0</td>\n",
       "      <td>0.0</td>\n",
       "      <td>0.0</td>\n",
       "      <td>12.247699</td>\n",
       "    </tr>\n",
       "    <tr>\n",
       "      <th>1</th>\n",
       "      <td>12.792276</td>\n",
       "      <td>0.000000</td>\n",
       "      <td>0.730463</td>\n",
       "      <td>1.820334</td>\n",
       "      <td>0.730463</td>\n",
       "      <td>12.062832</td>\n",
       "      <td>0.000000</td>\n",
       "      <td>0.000000</td>\n",
       "      <td>1.194318</td>\n",
       "      <td>8.897844</td>\n",
       "      <td>...</td>\n",
       "      <td>0.0</td>\n",
       "      <td>1.0</td>\n",
       "      <td>0.0</td>\n",
       "      <td>0.0</td>\n",
       "      <td>0.0</td>\n",
       "      <td>0.0</td>\n",
       "      <td>0.0</td>\n",
       "      <td>0.0</td>\n",
       "      <td>0.0</td>\n",
       "      <td>12.109016</td>\n",
       "    </tr>\n",
       "    <tr>\n",
       "      <th>2</th>\n",
       "      <td>11.892039</td>\n",
       "      <td>11.724598</td>\n",
       "      <td>0.730463</td>\n",
       "      <td>1.820334</td>\n",
       "      <td>1.194318</td>\n",
       "      <td>10.200343</td>\n",
       "      <td>1.194318</td>\n",
       "      <td>0.730463</td>\n",
       "      <td>1.194318</td>\n",
       "      <td>9.917060</td>\n",
       "      <td>...</td>\n",
       "      <td>0.0</td>\n",
       "      <td>1.0</td>\n",
       "      <td>0.0</td>\n",
       "      <td>0.0</td>\n",
       "      <td>0.0</td>\n",
       "      <td>0.0</td>\n",
       "      <td>0.0</td>\n",
       "      <td>0.0</td>\n",
       "      <td>0.0</td>\n",
       "      <td>12.317171</td>\n",
       "    </tr>\n",
       "    <tr>\n",
       "      <th>3</th>\n",
       "      <td>12.013683</td>\n",
       "      <td>11.354094</td>\n",
       "      <td>0.730463</td>\n",
       "      <td>0.730463</td>\n",
       "      <td>1.540963</td>\n",
       "      <td>8.274266</td>\n",
       "      <td>0.000000</td>\n",
       "      <td>0.730463</td>\n",
       "      <td>1.820334</td>\n",
       "      <td>10.468500</td>\n",
       "      <td>...</td>\n",
       "      <td>0.0</td>\n",
       "      <td>1.0</td>\n",
       "      <td>0.0</td>\n",
       "      <td>1.0</td>\n",
       "      <td>0.0</td>\n",
       "      <td>0.0</td>\n",
       "      <td>1.0</td>\n",
       "      <td>0.0</td>\n",
       "      <td>0.0</td>\n",
       "      <td>11.849405</td>\n",
       "    </tr>\n",
       "    <tr>\n",
       "      <th>4</th>\n",
       "      <td>12.510588</td>\n",
       "      <td>12.271365</td>\n",
       "      <td>0.730463</td>\n",
       "      <td>1.820334</td>\n",
       "      <td>0.000000</td>\n",
       "      <td>10.971129</td>\n",
       "      <td>1.194318</td>\n",
       "      <td>0.730463</td>\n",
       "      <td>1.194318</td>\n",
       "      <td>10.221051</td>\n",
       "      <td>...</td>\n",
       "      <td>0.0</td>\n",
       "      <td>1.0</td>\n",
       "      <td>0.0</td>\n",
       "      <td>0.0</td>\n",
       "      <td>0.0</td>\n",
       "      <td>0.0</td>\n",
       "      <td>0.0</td>\n",
       "      <td>0.0</td>\n",
       "      <td>0.0</td>\n",
       "      <td>12.429220</td>\n",
       "    </tr>\n",
       "  </tbody>\n",
       "</table>\n",
       "<p>5 rows × 57 columns</p>\n",
       "</div>"
      ],
      "text/plain": [
       "    1stFlrSF   2ndFlrSF     Alley  BsmtCond  BsmtExposure  BsmtFinSF1  \\\n",
       "0  11.692623  11.686189  0.730463  1.820334      1.540963   11.170327   \n",
       "1  12.792276   0.000000  0.730463  1.820334      0.730463   12.062832   \n",
       "2  11.892039  11.724598  0.730463  1.820334      1.194318   10.200343   \n",
       "3  12.013683  11.354094  0.730463  0.730463      1.540963    8.274266   \n",
       "4  12.510588  12.271365  0.730463  1.820334      0.000000   10.971129   \n",
       "\n",
       "   BsmtFinType1  BsmtFullBath  BsmtQual  BsmtUnfSF    ...      \\\n",
       "0      1.194318      0.730463  1.194318   7.483296    ...       \n",
       "1      0.000000      0.000000  1.194318   8.897844    ...       \n",
       "2      1.194318      0.730463  1.194318   9.917060    ...       \n",
       "3      0.000000      0.730463  1.820334  10.468500    ...       \n",
       "4      1.194318      0.730463  1.194318  10.221051    ...       \n",
       "\n",
       "   MSZoning_C (all)  MSZoning_RL  Neighborhood_ClearCr  Neighborhood_Crawfor  \\\n",
       "0               0.0          1.0                   0.0                   0.0   \n",
       "1               0.0          1.0                   0.0                   0.0   \n",
       "2               0.0          1.0                   0.0                   0.0   \n",
       "3               0.0          1.0                   0.0                   1.0   \n",
       "4               0.0          1.0                   0.0                   0.0   \n",
       "\n",
       "   Neighborhood_Edwards  Neighborhood_StoneBr  SaleCondition_Abnorml  \\\n",
       "0                   0.0                   0.0                    0.0   \n",
       "1                   0.0                   0.0                    0.0   \n",
       "2                   0.0                   0.0                    0.0   \n",
       "3                   0.0                   0.0                    1.0   \n",
       "4                   0.0                   0.0                    0.0   \n",
       "\n",
       "   SaleCondition_Family  SaleType_New  SalePrice  \n",
       "0                   0.0           0.0  12.247699  \n",
       "1                   0.0           0.0  12.109016  \n",
       "2                   0.0           0.0  12.317171  \n",
       "3                   0.0           0.0  11.849405  \n",
       "4                   0.0           0.0  12.429220  \n",
       "\n",
       "[5 rows x 57 columns]"
      ]
     },
     "execution_count": 2,
     "metadata": {},
     "output_type": "execute_result"
    }
   ],
   "source": [
    "# Load data\n",
    "print('Load data')\n",
    "TrainData= pd.read_csv('train_clean.csv')\n",
    "TrainData.head()"
   ]
  },
  {
   "cell_type": "code",
   "execution_count": 3,
   "metadata": {},
   "outputs": [
    {
     "data": {
      "text/html": [
       "<div>\n",
       "<style scoped>\n",
       "    .dataframe tbody tr th:only-of-type {\n",
       "        vertical-align: middle;\n",
       "    }\n",
       "\n",
       "    .dataframe tbody tr th {\n",
       "        vertical-align: top;\n",
       "    }\n",
       "\n",
       "    .dataframe thead th {\n",
       "        text-align: right;\n",
       "    }\n",
       "</style>\n",
       "<table border=\"1\" class=\"dataframe\">\n",
       "  <thead>\n",
       "    <tr style=\"text-align: right;\">\n",
       "      <th></th>\n",
       "      <th>1stFlrSF</th>\n",
       "      <th>2ndFlrSF</th>\n",
       "      <th>Alley</th>\n",
       "      <th>BsmtCond</th>\n",
       "      <th>BsmtExposure</th>\n",
       "      <th>BsmtFinSF1</th>\n",
       "      <th>BsmtFinType1</th>\n",
       "      <th>BsmtFullBath</th>\n",
       "      <th>BsmtQual</th>\n",
       "      <th>BsmtUnfSF</th>\n",
       "      <th>...</th>\n",
       "      <th>MSZoning_C (all)</th>\n",
       "      <th>MSZoning_RL</th>\n",
       "      <th>Neighborhood_ClearCr</th>\n",
       "      <th>Neighborhood_Crawfor</th>\n",
       "      <th>Neighborhood_Edwards</th>\n",
       "      <th>Neighborhood_StoneBr</th>\n",
       "      <th>SaleCondition_Abnorml</th>\n",
       "      <th>SaleCondition_Family</th>\n",
       "      <th>SaleType_New</th>\n",
       "      <th>Id</th>\n",
       "    </tr>\n",
       "  </thead>\n",
       "  <tbody>\n",
       "    <tr>\n",
       "      <th>0</th>\n",
       "      <td>11.818680</td>\n",
       "      <td>0.000000</td>\n",
       "      <td>0.730463</td>\n",
       "      <td>1.820334</td>\n",
       "      <td>1.540963</td>\n",
       "      <td>10.105326</td>\n",
       "      <td>2.055642</td>\n",
       "      <td>0.0</td>\n",
       "      <td>1.820334</td>\n",
       "      <td>8.780689</td>\n",
       "      <td>...</td>\n",
       "      <td>0.0</td>\n",
       "      <td>0.0</td>\n",
       "      <td>0.0</td>\n",
       "      <td>0.0</td>\n",
       "      <td>0.0</td>\n",
       "      <td>0.0</td>\n",
       "      <td>0.0</td>\n",
       "      <td>0.0</td>\n",
       "      <td>0.0</td>\n",
       "      <td>1461</td>\n",
       "    </tr>\n",
       "    <tr>\n",
       "      <th>1</th>\n",
       "      <td>12.943735</td>\n",
       "      <td>0.000000</td>\n",
       "      <td>0.730463</td>\n",
       "      <td>1.820334</td>\n",
       "      <td>1.540963</td>\n",
       "      <td>11.901094</td>\n",
       "      <td>0.000000</td>\n",
       "      <td>0.0</td>\n",
       "      <td>1.820334</td>\n",
       "      <td>9.752379</td>\n",
       "      <td>...</td>\n",
       "      <td>0.0</td>\n",
       "      <td>1.0</td>\n",
       "      <td>0.0</td>\n",
       "      <td>0.0</td>\n",
       "      <td>0.0</td>\n",
       "      <td>0.0</td>\n",
       "      <td>0.0</td>\n",
       "      <td>0.0</td>\n",
       "      <td>0.0</td>\n",
       "      <td>1462</td>\n",
       "    </tr>\n",
       "    <tr>\n",
       "      <th>2</th>\n",
       "      <td>11.916131</td>\n",
       "      <td>11.151348</td>\n",
       "      <td>0.730463</td>\n",
       "      <td>1.820334</td>\n",
       "      <td>1.540963</td>\n",
       "      <td>11.476685</td>\n",
       "      <td>1.194318</td>\n",
       "      <td>0.0</td>\n",
       "      <td>1.194318</td>\n",
       "      <td>7.293500</td>\n",
       "      <td>...</td>\n",
       "      <td>0.0</td>\n",
       "      <td>1.0</td>\n",
       "      <td>0.0</td>\n",
       "      <td>0.0</td>\n",
       "      <td>0.0</td>\n",
       "      <td>0.0</td>\n",
       "      <td>0.0</td>\n",
       "      <td>0.0</td>\n",
       "      <td>0.0</td>\n",
       "      <td>1463</td>\n",
       "    </tr>\n",
       "    <tr>\n",
       "      <th>3</th>\n",
       "      <td>11.910125</td>\n",
       "      <td>11.062536</td>\n",
       "      <td>0.730463</td>\n",
       "      <td>1.820334</td>\n",
       "      <td>1.540963</td>\n",
       "      <td>10.749651</td>\n",
       "      <td>1.194318</td>\n",
       "      <td>0.0</td>\n",
       "      <td>1.820334</td>\n",
       "      <td>9.207511</td>\n",
       "      <td>...</td>\n",
       "      <td>0.0</td>\n",
       "      <td>1.0</td>\n",
       "      <td>0.0</td>\n",
       "      <td>0.0</td>\n",
       "      <td>0.0</td>\n",
       "      <td>0.0</td>\n",
       "      <td>0.0</td>\n",
       "      <td>0.0</td>\n",
       "      <td>0.0</td>\n",
       "      <td>1464</td>\n",
       "    </tr>\n",
       "    <tr>\n",
       "      <th>4</th>\n",
       "      <td>12.833625</td>\n",
       "      <td>0.000000</td>\n",
       "      <td>0.730463</td>\n",
       "      <td>1.820334</td>\n",
       "      <td>1.540963</td>\n",
       "      <td>8.720170</td>\n",
       "      <td>0.000000</td>\n",
       "      <td>0.0</td>\n",
       "      <td>1.194318</td>\n",
       "      <td>12.172900</td>\n",
       "      <td>...</td>\n",
       "      <td>0.0</td>\n",
       "      <td>1.0</td>\n",
       "      <td>0.0</td>\n",
       "      <td>0.0</td>\n",
       "      <td>0.0</td>\n",
       "      <td>1.0</td>\n",
       "      <td>0.0</td>\n",
       "      <td>0.0</td>\n",
       "      <td>0.0</td>\n",
       "      <td>1465</td>\n",
       "    </tr>\n",
       "  </tbody>\n",
       "</table>\n",
       "<p>5 rows × 57 columns</p>\n",
       "</div>"
      ],
      "text/plain": [
       "    1stFlrSF   2ndFlrSF     Alley  BsmtCond  BsmtExposure  BsmtFinSF1  \\\n",
       "0  11.818680   0.000000  0.730463  1.820334      1.540963   10.105326   \n",
       "1  12.943735   0.000000  0.730463  1.820334      1.540963   11.901094   \n",
       "2  11.916131  11.151348  0.730463  1.820334      1.540963   11.476685   \n",
       "3  11.910125  11.062536  0.730463  1.820334      1.540963   10.749651   \n",
       "4  12.833625   0.000000  0.730463  1.820334      1.540963    8.720170   \n",
       "\n",
       "   BsmtFinType1  BsmtFullBath  BsmtQual  BsmtUnfSF  ...   MSZoning_C (all)  \\\n",
       "0      2.055642           0.0  1.820334   8.780689  ...                0.0   \n",
       "1      0.000000           0.0  1.820334   9.752379  ...                0.0   \n",
       "2      1.194318           0.0  1.194318   7.293500  ...                0.0   \n",
       "3      1.194318           0.0  1.820334   9.207511  ...                0.0   \n",
       "4      0.000000           0.0  1.194318  12.172900  ...                0.0   \n",
       "\n",
       "   MSZoning_RL  Neighborhood_ClearCr  Neighborhood_Crawfor  \\\n",
       "0          0.0                   0.0                   0.0   \n",
       "1          1.0                   0.0                   0.0   \n",
       "2          1.0                   0.0                   0.0   \n",
       "3          1.0                   0.0                   0.0   \n",
       "4          1.0                   0.0                   0.0   \n",
       "\n",
       "   Neighborhood_Edwards  Neighborhood_StoneBr  SaleCondition_Abnorml  \\\n",
       "0                   0.0                   0.0                    0.0   \n",
       "1                   0.0                   0.0                    0.0   \n",
       "2                   0.0                   0.0                    0.0   \n",
       "3                   0.0                   0.0                    0.0   \n",
       "4                   0.0                   1.0                    0.0   \n",
       "\n",
       "   SaleCondition_Family  SaleType_New    Id  \n",
       "0                   0.0           0.0  1461  \n",
       "1                   0.0           0.0  1462  \n",
       "2                   0.0           0.0  1463  \n",
       "3                   0.0           0.0  1464  \n",
       "4                   0.0           0.0  1465  \n",
       "\n",
       "[5 rows x 57 columns]"
      ]
     },
     "execution_count": 3,
     "metadata": {},
     "output_type": "execute_result"
    }
   ],
   "source": [
    "TestData= pd.read_csv('test_clean.csv')\n",
    "TestData.head()"
   ]
  },
  {
   "cell_type": "markdown",
   "metadata": {},
   "source": [
    "# Prediction Results"
   ]
  },
  {
   "cell_type": "code",
   "execution_count": 4,
   "metadata": {
    "scrolled": true
   },
   "outputs": [],
   "source": [
    "X_train = TrainData.drop('SalePrice', axis=1).values\n",
    "X_test = TestData.drop('Id', axis=1).values\n",
    "y_train = TrainData['SalePrice'].values\n",
    "\n",
    "inputs = X_train, y_train, X_test\n",
    "\n",
    "\n",
    "NFOLDS = 5 # set folds for out-of-fold prediction"
   ]
  },
  {
   "cell_type": "markdown",
   "metadata": {},
   "source": [
    "## b. Candidate Models"
   ]
  },
  {
   "cell_type": "code",
   "execution_count": 5,
   "metadata": {},
   "outputs": [],
   "source": [
    "from sklearn.linear_model import LinearRegression\n",
    "from sklearn.linear_model import LogisticRegression\n",
    "from sklearn.svm import SVR, LinearSVR\n",
    "from sklearn.neighbors import KNeighborsRegressor\n",
    "from sklearn.tree import DecisionTreeRegressor\n",
    "from sklearn.neural_network import MLPRegressor\n",
    "from sklearn.linear_model import Lasso\n",
    "from sklearn.linear_model import ElasticNet\n",
    "\n",
    "from xgboost import XGBRegressor\n",
    "from sklearn.ensemble import RandomForestRegressor\n",
    "from sklearn.ensemble import GradientBoostingRegressor\n",
    "\n",
    "from sklearn.ensemble import BaggingRegressor\n",
    "from sklearn.ensemble import AdaBoostRegressor\n",
    "\n",
    "from sklearn.model_selection import cross_val_score\n",
    "from sklearn.metrics import make_scorer\n",
    "from sklearn.metrics import mean_squared_error as mse\n",
    "\n",
    "def candidate_models():\n",
    "    return [LinearRegression(), \n",
    "            SVR(),\n",
    "            LinearSVR(),\n",
    "            KNeighborsRegressor(),\n",
    "            DecisionTreeRegressor(),\n",
    "            MLPRegressor(),\n",
    "            Lasso(),\n",
    "            ElasticNet()]"
   ]
  },
  {
   "cell_type": "code",
   "execution_count": 6,
   "metadata": {},
   "outputs": [],
   "source": [
    "def name(model):\n",
    "    r = model.__class__.__name__\n",
    "    if 'base_estimator' in dir(model):\n",
    "        r += '({})'.format(name(model.base_estimator))\n",
    "    return r\n",
    "\n",
    "\n",
    "def best_model(model2predict):\n",
    "    score_df = series_best_first(model2predict)\n",
    "    print(score_df)\n",
    "    return score_df.keys()[0]\n",
    "\n",
    "\n",
    "def series_best_first(model2predict):\n",
    "    model2score = {k: v[1] for k, v in model2predict.items()}\n",
    "    return pd.Series(model2score).sort_values(ascending=True)\n",
    "\n",
    "\n",
    "def write_submission(predict, submission_csv):\n",
    "    submission = pd.DataFrame({\n",
    "        \"Id\": TestData[\"Id\"],\n",
    "        \"SalePrice\": predict\n",
    "    })\n",
    "    submission.to_csv(submission_csv, index=False)\n",
    "    return pd.read_csv(submission_csv).tail(10)\n",
    "\n",
    "def predict_and_score(model, inputs):\n",
    "    X, y, X_test = inputs\n",
    "    model.fit(X, y)\n",
    "    pred_train = model.predict(X)\n",
    "    pred_test = model.predict(X_test)\n",
    "    return pred_test, mse(pred_train, y)"
   ]
  },
  {
   "cell_type": "code",
   "execution_count": 30,
   "metadata": {
    "scrolled": true
   },
   "outputs": [],
   "source": [
    "np.random.seed(8848)\n",
    "table = {name(m): -cross_val_score(m, X_train, y_train, cv=NFOLDS, scoring='neg_mean_squared_error').mean() \n",
    "                     for m in candidate_models()}"
   ]
  },
  {
   "cell_type": "code",
   "execution_count": 31,
   "metadata": {},
   "outputs": [
    {
     "data": {
      "text/plain": [
       "LinearRegression         0.016437\n",
       "LinearSVR                0.028505\n",
       "SVR                      0.034300\n",
       "MLPRegressor             0.043030\n",
       "DecisionTreeRegressor    0.046471\n",
       "KNeighborsRegressor      0.051909\n",
       "ElasticNet               0.150595\n",
       "Lasso                    0.159635\n",
       "dtype: float64"
      ]
     },
     "execution_count": 31,
     "metadata": {},
     "output_type": "execute_result"
    }
   ],
   "source": [
    "pd.Series(table).sort_values(ascending=True)"
   ]
  },
  {
   "cell_type": "markdown",
   "metadata": {},
   "source": [
    "### Tune parameter using cross validation"
   ]
  },
  {
   "cell_type": "code",
   "execution_count": 9,
   "metadata": {},
   "outputs": [],
   "source": [
    "best_candidates = []"
   ]
  },
  {
   "cell_type": "markdown",
   "metadata": {},
   "source": [
    "### 1. DecisionTreeRegressor"
   ]
  },
  {
   "cell_type": "code",
   "execution_count": 10,
   "metadata": {
    "scrolled": false
   },
   "outputs": [
    {
     "data": {
      "text/plain": [
       "Text(17.06,0.5,'max_depth')"
      ]
     },
     "execution_count": 10,
     "metadata": {},
     "output_type": "execute_result"
    },
    {
     "data": {
      "image/png": "[encoded data removed]",
      "text/plain": [
       "<matplotlib.figure.Figure at 0x10922aa20>"
      ]
     },
     "metadata": {},
     "output_type": "display_data"
    }
   ],
   "source": [
    "max_depth = range(10, 20, 1)\n",
    "min_samples_split = range(30, 40, 1)\n",
    "cv_score = np.zeros([len(max_depth), len(min_samples_split)])\n",
    "for di, d in enumerate(max_depth):\n",
    "    for si, s in enumerate(min_samples_split):\n",
    "        dtr = DecisionTreeRegressor(max_depth=d, min_samples_split=s, random_state=8848)\n",
    "        scores = cross_val_score(dtr, X_train, y_train, cv=NFOLDS, scoring='neg_mean_squared_error')\n",
    "        cv_score[di, si] = -scores.mean()\n",
    "\n",
    "plt.title('Cross Validation Error', fontsize=15)\n",
    "sns.heatmap(cv_score, xticklabels=min_samples_split, yticklabels=max_depth)\n",
    "plt.xlabel('min_samples_split')\n",
    "plt.ylabel('max_depth')"
   ]
  },
  {
   "cell_type": "code",
   "execution_count": 11,
   "metadata": {},
   "outputs": [
    {
     "name": "stdout",
     "output_type": "stream",
     "text": [
      "The best parameters tuned by cross validation:\n",
      "  max_depth: 15\n",
      "  min_samples_split: 31\n",
      "The best cross validation error is 0.0328\n"
     ]
    }
   ],
   "source": [
    "best_d, best_s = np.unravel_index(cv_score.argmin(), cv_score.shape)\n",
    "print('The best parameters tuned by cross validation:')\n",
    "print('  {name}: {value}'.format(name='max_depth', value=max_depth[best_d]))\n",
    "print('  {name}: {value}'.format(name='min_samples_split', value=min_samples_split[best_s]))\n",
    "print('The best cross validation error is {:.4f}'.format(cv_score.min()))"
   ]
  },
  {
   "cell_type": "code",
   "execution_count": 12,
   "metadata": {},
   "outputs": [],
   "source": [
    "best_candidates.append(\n",
    "    DecisionTreeRegressor(max_depth=max_depth[best_d], min_samples_split=min_samples_split[best_s])\n",
    ")"
   ]
  },
  {
   "cell_type": "markdown",
   "metadata": {},
   "source": [
    "### 2. LinearRegression\n",
    "Since there are no parameters to train in linear regression, we simply use it as the best candidate."
   ]
  },
  {
   "cell_type": "code",
   "execution_count": 13,
   "metadata": {},
   "outputs": [],
   "source": [
    "best_candidates.append(LinearRegression())"
   ]
  },
  {
   "cell_type": "markdown",
   "metadata": {},
   "source": [
    "### 3. ElasticNet"
   ]
  },
  {
   "cell_type": "code",
   "execution_count": 14,
   "metadata": {},
   "outputs": [
    {
     "data": {
      "text/plain": [
       "Text(17.06,0.5,'alpha')"
      ]
     },
     "execution_count": 14,
     "metadata": {},
     "output_type": "execute_result"
    },
    {
     "data": {
      "image/png": "[encoded data removed]",
      "text/plain": [
       "<matplotlib.figure.Figure at 0x10922a748>"
      ]
     },
     "metadata": {},
     "output_type": "display_data"
    }
   ],
   "source": [
    "import warnings\n",
    "from sklearn.exceptions import ConvergenceWarning\n",
    "alpha = np.linspace(0.1, 2, 10)\n",
    "l1_ratio = np.linspace(0.1, 1, 10)\n",
    "cv_score = np.zeros([len(alpha), len(l1_ratio)])\n",
    "for di, d in enumerate(alpha):\n",
    "    for si, s in enumerate(l1_ratio):\n",
    "        with warnings.catch_warnings():\n",
    "            warnings.filterwarnings(\"ignore\",category=ConvergenceWarning)\n",
    "            dtr = ElasticNet(alpha=d, l1_ratio=s, random_state=8848, max_iter=1000)\n",
    "            scores = cross_val_score(dtr, X_train, y_train, cv=NFOLDS, scoring='neg_mean_squared_error')\n",
    "        cv_score[di, si] = -scores.mean()\n",
    "\n",
    "plt.title('Cross Validation Error', fontsize=15)\n",
    "sns.heatmap(cv_score, xticklabels=l1_ratio, yticklabels=alpha)\n",
    "plt.xlabel('l1_ratio')\n",
    "plt.ylabel('alpha')"
   ]
  },
  {
   "cell_type": "code",
   "execution_count": 15,
   "metadata": {},
   "outputs": [
    {
     "name": "stdout",
     "output_type": "stream",
     "text": [
      "The best parameters tuned by cross validation:\n",
      "  alpha: 0.1\n",
      "  l1_ratio: 0.1\n",
      "The best cross validation error is 0.0301\n"
     ]
    }
   ],
   "source": [
    "best_d, best_s = np.unravel_index(cv_score.argmin(), cv_score.shape)\n",
    "print('The best parameters tuned by cross validation:')\n",
    "print('  {name}: {value}'.format(name='alpha', value=alpha[best_d]))\n",
    "print('  {name}: {value}'.format(name='l1_ratio', value=l1_ratio[best_s]))\n",
    "print('The best cross validation error is {:.4f}'.format(cv_score.min()))"
   ]
  },
  {
   "cell_type": "code",
   "execution_count": 16,
   "metadata": {},
   "outputs": [],
   "source": [
    "best_candidates.append(\n",
    "    ElasticNet(alpha=alpha[best_d], l1_ratio=l1_ratio[best_s])\n",
    ")"
   ]
  },
  {
   "cell_type": "markdown",
   "metadata": {},
   "source": [
    "### 4. Lasso"
   ]
  },
  {
   "cell_type": "code",
   "execution_count": 17,
   "metadata": {},
   "outputs": [
    {
     "data": {
      "text/plain": [
       "Text(0.5,0,'alpha')"
      ]
     },
     "execution_count": 17,
     "metadata": {},
     "output_type": "execute_result"
    },
    {
     "data": {
      "image/png": "[encoded data removed]",
      "text/plain": [
       "<matplotlib.figure.Figure at 0x107a265c0>"
      ]
     },
     "metadata": {},
     "output_type": "display_data"
    }
   ],
   "source": [
    "alpha = np.linspace(0.1, 1, 10)\n",
    "cv_score = np.zeros([len(alpha)])\n",
    "for di, d in enumerate(alpha):\n",
    "    with warnings.catch_warnings():\n",
    "        warnings.filterwarnings(\"ignore\",category=ConvergenceWarning)\n",
    "        dtr = Lasso(alpha=d, random_state=8848, max_iter=1000)\n",
    "        scores = cross_val_score(dtr, X_train, y_train, cv=NFOLDS, scoring='neg_mean_squared_error')\n",
    "    cv_score[di] = -scores.mean()\n",
    "\n",
    "plt.title('Cross Validation Error', fontsize=15)\n",
    "plt.plot(alpha, cv_score)\n",
    "plt.xlabel('alpha')"
   ]
  },
  {
   "cell_type": "code",
   "execution_count": 18,
   "metadata": {},
   "outputs": [
    {
     "name": "stdout",
     "output_type": "stream",
     "text": [
      "The best parameters tuned by cross validation:\n",
      "  alpha: 0.1\n",
      "The best cross validation error is 0.0536\n"
     ]
    }
   ],
   "source": [
    "best_d = cv_score.argmin()\n",
    "print('The best parameters tuned by cross validation:')\n",
    "print('  {name}: {value}'.format(name='alpha', value=alpha[best_d]))\n",
    "print('The best cross validation error is {:.4f}'.format(cv_score.min()))"
   ]
  },
  {
   "cell_type": "code",
   "execution_count": 19,
   "metadata": {},
   "outputs": [],
   "source": [
    "best_candidates.append(\n",
    "    Lasso(alpha=alpha[best_d])\n",
    ")"
   ]
  },
  {
   "cell_type": "markdown",
   "metadata": {},
   "source": [
    "### 5. LinearSVR"
   ]
  },
  {
   "cell_type": "code",
   "execution_count": 20,
   "metadata": {},
   "outputs": [
    {
     "data": {
      "text/plain": [
       "Text(0.5,0,'C')"
      ]
     },
     "execution_count": 20,
     "metadata": {},
     "output_type": "execute_result"
    },
    {
     "data": {
      "image/png": "[encoded data removed]",
      "text/plain": [
       "<matplotlib.figure.Figure at 0x1079b1550>"
      ]
     },
     "metadata": {},
     "output_type": "display_data"
    }
   ],
   "source": [
    "C = np.linspace(0.1, 2, 10)\n",
    "cv_score = np.zeros([len(C)])\n",
    "for di, d in enumerate(C):\n",
    "    with warnings.catch_warnings():\n",
    "        warnings.filterwarnings(\"ignore\",category=ConvergenceWarning)\n",
    "        dtr = LinearSVR(C=d, random_state=8848, max_iter=1000)\n",
    "        scores = cross_val_score(dtr, X_train, y_train, cv=NFOLDS, scoring='neg_mean_squared_error')\n",
    "    cv_score[di] = -scores.mean()\n",
    "\n",
    "plt.title('Cross Validation Error', fontsize=15)\n",
    "plt.plot(C, cv_score)\n",
    "plt.xlabel('C')"
   ]
  },
  {
   "cell_type": "code",
   "execution_count": 21,
   "metadata": {},
   "outputs": [
    {
     "name": "stdout",
     "output_type": "stream",
     "text": [
      "The best parameters tuned by cross validation:\n",
      "  C: 0.5222222222222223\n",
      "The best cross validation error is 0.0195\n"
     ]
    }
   ],
   "source": [
    "best_d = cv_score.argmin()\n",
    "if cv_score.min() == cv_score.max():\n",
    "    best_c = 1\n",
    "else:\n",
    "    best_c = C[best_d]\n",
    "print('The best parameters tuned by cross validation:')\n",
    "print('  {name}: {value}'.format(name='C', value=best_c))\n",
    "print('The best cross validation error is {:.4f}'.format(cv_score.min()))"
   ]
  },
  {
   "cell_type": "code",
   "execution_count": 22,
   "metadata": {},
   "outputs": [],
   "source": [
    "best_candidates.append(\n",
    "    LinearSVR(C=best_c)\n",
    ")"
   ]
  },
  {
   "cell_type": "markdown",
   "metadata": {},
   "source": [
    "### Summary"
   ]
  },
  {
   "cell_type": "code",
   "execution_count": 32,
   "metadata": {},
   "outputs": [
    {
     "data": {
      "text/plain": [
       "LinearRegression         0.016437\n",
       "LinearSVR                0.026852\n",
       "ElasticNet               0.030114\n",
       "DecisionTreeRegressor    0.033124\n",
       "Lasso                    0.053610\n",
       "dtype: float64"
      ]
     },
     "execution_count": 32,
     "metadata": {},
     "output_type": "execute_result"
    }
   ],
   "source": [
    "np.random.seed(8848)\n",
    "table = {name(m): -cross_val_score(m, X_train, y_train, cv=NFOLDS, scoring='neg_mean_squared_error').mean() \n",
    "                     for m in best_candidates}\n",
    "pd.Series(table).sort_values(ascending=True)"
   ]
  },
  {
   "cell_type": "markdown",
   "metadata": {},
   "source": [
    "## c. Ensemble methods"
   ]
  },
  {
   "cell_type": "code",
   "execution_count": 33,
   "metadata": {},
   "outputs": [],
   "source": [
    "def ensemble_methods():\n",
    "    methods = [RandomForestRegressor(), GradientBoostingRegressor()]\n",
    "    for m in best_candidates:\n",
    "        methods.append(BaggingRegressor(base_estimator=m))\n",
    "    for m in best_candidates:\n",
    "        methods.append(AdaBoostRegressor(base_estimator=m))\n",
    "    return methods"
   ]
  },
  {
   "cell_type": "code",
   "execution_count": 34,
   "metadata": {},
   "outputs": [
    {
     "data": {
      "text/plain": [
       "['RandomForestRegressor(DecisionTreeRegressor)',\n",
       " 'GradientBoostingRegressor',\n",
       " 'BaggingRegressor(DecisionTreeRegressor)',\n",
       " 'BaggingRegressor(LinearRegression)',\n",
       " 'BaggingRegressor(ElasticNet)',\n",
       " 'BaggingRegressor(Lasso)',\n",
       " 'BaggingRegressor(LinearSVR)',\n",
       " 'AdaBoostRegressor(DecisionTreeRegressor)',\n",
       " 'AdaBoostRegressor(LinearRegression)',\n",
       " 'AdaBoostRegressor(ElasticNet)',\n",
       " 'AdaBoostRegressor(Lasso)',\n",
       " 'AdaBoostRegressor(LinearSVR)']"
      ]
     },
     "execution_count": 34,
     "metadata": {},
     "output_type": "execute_result"
    }
   ],
   "source": [
    "[name(m) for m in ensemble_methods()]"
   ]
  },
  {
   "cell_type": "code",
   "execution_count": 35,
   "metadata": {},
   "outputs": [],
   "source": [
    "np.random.seed(8848)\n",
    "with warnings.catch_warnings():\n",
    "    warnings.filterwarnings(\"ignore\",category=ConvergenceWarning)\n",
    "    table = {name(m): -cross_val_score(m, X_train, y_train, cv=NFOLDS, scoring='neg_mean_squared_error').mean() \n",
    "                     for m in ensemble_methods()}"
   ]
  },
  {
   "cell_type": "code",
   "execution_count": 36,
   "metadata": {},
   "outputs": [
    {
     "data": {
      "text/plain": [
       "GradientBoostingRegressor                       0.015500\n",
       "BaggingRegressor(LinearRegression)              0.016478\n",
       "BaggingRegressor(LinearSVR)                     0.018015\n",
       "AdaBoostRegressor(DecisionTreeRegressor)        0.019584\n",
       "AdaBoostRegressor(LinearSVR)                    0.021904\n",
       "RandomForestRegressor(DecisionTreeRegressor)    0.022035\n",
       "AdaBoostRegressor(LinearRegression)             0.023178\n",
       "BaggingRegressor(DecisionTreeRegressor)         0.024328\n",
       "AdaBoostRegressor(ElasticNet)                   0.027464\n",
       "BaggingRegressor(ElasticNet)                    0.029909\n",
       "AdaBoostRegressor(Lasso)                        0.047460\n",
       "BaggingRegressor(Lasso)                         0.053727\n",
       "dtype: float64"
      ]
     },
     "execution_count": 36,
     "metadata": {},
     "output_type": "execute_result"
    }
   ],
   "source": [
    "pd.Series(table).sort_values(ascending=True)"
   ]
  },
  {
   "cell_type": "markdown",
   "metadata": {},
   "source": [
    "### Tune parameter using cross validation"
   ]
  },
  {
   "cell_type": "code",
   "execution_count": 38,
   "metadata": {},
   "outputs": [],
   "source": [
    "best_ensembles = []"
   ]
  },
  {
   "cell_type": "markdown",
   "metadata": {},
   "source": [
    "### 1. GradientBoostingRegressor"
   ]
  },
  {
   "cell_type": "code",
   "execution_count": 39,
   "metadata": {
    "scrolled": false
   },
   "outputs": [
    {
     "data": {
      "image/png": "[encoded data removed]",
      "text/plain": [
       "<matplotlib.figure.Figure at 0x107a26048>"
      ]
     },
     "metadata": {},
     "output_type": "display_data"
    }
   ],
   "source": [
    "max_depth = [1, 3, 5]\n",
    "min_samples_split = [2, 5, 10]\n",
    "n_estimators = [50, 100, 150]\n",
    "cv_score = np.zeros([len(max_depth), len(min_samples_split), len(n_estimators)])\n",
    "for di, d in enumerate(max_depth):\n",
    "    for si, s in enumerate(min_samples_split):\n",
    "        for ei, e in enumerate(n_estimators):\n",
    "            dtr = GradientBoostingRegressor(max_depth=d, min_samples_split=s, n_estimators=e, random_state=8848)\n",
    "            scores = cross_val_score(dtr, X_train, y_train, cv=NFOLDS, scoring='neg_mean_squared_error')\n",
    "            cv_score[di, si, ei] = -scores.mean()\n",
    "\n",
    "for ei, e in enumerate(n_estimators):\n",
    "    plt.subplot(1, 3, ei+1)\n",
    "    plt.title('CV Error: {}-estimators'.format(e), fontsize=15)\n",
    "    sns.heatmap(cv_score[:, :, ei], xticklabels=min_samples_split, yticklabels=max_depth)\n",
    "    plt.xlabel('min_samples_split')\n",
    "    plt.ylabel('max_depth')"
   ]
  },
  {
   "cell_type": "code",
   "execution_count": 40,
   "metadata": {},
   "outputs": [
    {
     "name": "stdout",
     "output_type": "stream",
     "text": [
      "The best parameters tuned by cross validation:\n",
      "  max_depth: 3\n",
      "  min_samples_split: 10\n",
      "  n_estimators: 150\n",
      "The best cross validation error is 0.0151\n"
     ]
    }
   ],
   "source": [
    "best_d, best_s, best_e = np.unravel_index(cv_score.argmin(), cv_score.shape)\n",
    "print('The best parameters tuned by cross validation:')\n",
    "print('  {name}: {value}'.format(name='max_depth', value=max_depth[best_d]))\n",
    "print('  {name}: {value}'.format(name='min_samples_split', value=min_samples_split[best_s]))\n",
    "print('  {name}: {value}'.format(name='n_estimators', value=n_estimators[best_e]))\n",
    "print('The best cross validation error is {:.4f}'.format(cv_score.min()))"
   ]
  },
  {
   "cell_type": "code",
   "execution_count": 41,
   "metadata": {},
   "outputs": [],
   "source": [
    "best_ensembles.append(\n",
    "    GradientBoostingRegressor(\n",
    "        max_depth=max_depth[best_d], \n",
    "        min_samples_split=min_samples_split[best_s], \n",
    "        n_estimators=n_estimators[best_e], \n",
    "        random_state=8848)\n",
    ")"
   ]
  },
  {
   "cell_type": "markdown",
   "metadata": {},
   "source": [
    "### 2. BaggingRegressor(LinearRegression)"
   ]
  },
  {
   "cell_type": "code",
   "execution_count": 42,
   "metadata": {
    "scrolled": false
   },
   "outputs": [
    {
     "data": {
      "image/png": "[encoded data removed]",
      "text/plain": [
       "<matplotlib.figure.Figure at 0x1084de438>"
      ]
     },
     "metadata": {},
     "output_type": "display_data"
    }
   ],
   "source": [
    "max_samples = [0.5, 0.8, 1.0]\n",
    "max_features = [0.5, 0.8, 1.0]\n",
    "n_estimators = [50, 100, 150]\n",
    "cv_score = np.zeros([len(max_samples), len(max_features), len(n_estimators)])\n",
    "for di, d in enumerate(max_samples):\n",
    "    for si, s in enumerate(max_features):\n",
    "        for ei, e in enumerate(n_estimators):\n",
    "            dtr = BaggingRegressor(\n",
    "                base_estimator=LinearRegression(),\n",
    "                max_samples=d, \n",
    "                max_features=s, \n",
    "                n_estimators=e, \n",
    "                random_state=8848\n",
    "            )\n",
    "            scores = cross_val_score(dtr, X_train, y_train, cv=NFOLDS, scoring='neg_mean_squared_error')\n",
    "            cv_score[di, si, ei] = -scores.mean()\n",
    "\n",
    "for ei, e in enumerate(n_estimators):\n",
    "    plt.subplot(1, 3, ei+1)\n",
    "    plt.title('CV Error: {}-estimators'.format(e), fontsize=15)\n",
    "    sns.heatmap(cv_score[:, :, ei], xticklabels=min_samples_split, yticklabels=max_depth)\n",
    "    plt.xlabel('min_samples_split')\n",
    "    plt.ylabel('max_depth')"
   ]
  },
  {
   "cell_type": "code",
   "execution_count": 43,
   "metadata": {},
   "outputs": [
    {
     "name": "stdout",
     "output_type": "stream",
     "text": [
      "The best parameters tuned by cross validation:\n",
      "  max_samples: 0.5\n",
      "  max_features: 0.8\n",
      "  n_estimators: 100\n",
      "The best cross validation error is 0.0160\n"
     ]
    }
   ],
   "source": [
    "best_d, best_s, best_e = np.unravel_index(cv_score.argmin(), cv_score.shape)\n",
    "print('The best parameters tuned by cross validation:')\n",
    "print('  {name}: {value}'.format(name='max_samples', value=max_samples[best_d]))\n",
    "print('  {name}: {value}'.format(name='max_features', value=max_features[best_s]))\n",
    "print('  {name}: {value}'.format(name='n_estimators', value=n_estimators[best_e]))\n",
    "print('The best cross validation error is {:.4f}'.format(cv_score.min()))"
   ]
  },
  {
   "cell_type": "code",
   "execution_count": 44,
   "metadata": {},
   "outputs": [],
   "source": [
    "best_ensembles.append(\n",
    "    BaggingRegressor(\n",
    "        base_estimator=LinearRegression(),\n",
    "        max_samples=max_samples[best_d], \n",
    "        max_features=max_features[best_s], \n",
    "        n_estimators=n_estimators[best_e], \n",
    "        random_state=8848\n",
    "    )\n",
    ")"
   ]
  },
  {
   "cell_type": "markdown",
   "metadata": {},
   "source": [
    "### 3. BaggingRegressor(LinearSVR)"
   ]
  },
  {
   "cell_type": "code",
   "execution_count": 46,
   "metadata": {
    "scrolled": false
   },
   "outputs": [
    {
     "data": {
      "image/png": "[encoded data removed]",
      "text/plain": [
       "<matplotlib.figure.Figure at 0x107bed1d0>"
      ]
     },
     "metadata": {},
     "output_type": "display_data"
    }
   ],
   "source": [
    "max_samples = [0.5, 0.8, 1.0]\n",
    "max_features = [0.5, 0.8, 1.0]\n",
    "n_estimators = [50, 100, 150]\n",
    "cv_score = np.zeros([len(max_samples), len(max_features), len(n_estimators)])\n",
    "for di, d in enumerate(max_samples):\n",
    "    for si, s in enumerate(max_features):\n",
    "        for ei, e in enumerate(n_estimators):\n",
    "            dtr = BaggingRegressor(\n",
    "                base_estimator=LinearSVR(C=0.522),\n",
    "                max_samples=d, \n",
    "                max_features=s, \n",
    "                n_estimators=e, \n",
    "                random_state=8848\n",
    "            )\n",
    "            scores = cross_val_score(dtr, X_train, y_train, cv=NFOLDS, scoring='neg_mean_squared_error')\n",
    "            cv_score[di, si, ei] = -scores.mean()\n",
    "\n",
    "for ei, e in enumerate(n_estimators):\n",
    "    plt.subplot(1, 3, ei+1)\n",
    "    plt.title('CV Error: {}-estimators'.format(e), fontsize=15)\n",
    "    sns.heatmap(cv_score[:, :, ei], xticklabels=min_samples_split, yticklabels=max_depth)\n",
    "    plt.xlabel('min_samples_split')\n",
    "    plt.ylabel('max_depth')"
   ]
  },
  {
   "cell_type": "code",
   "execution_count": 47,
   "metadata": {},
   "outputs": [
    {
     "name": "stdout",
     "output_type": "stream",
     "text": [
      "The best parameters tuned by cross validation:\n",
      "  max_samples: 0.5\n",
      "  max_features: 1.0\n",
      "  n_estimators: 150\n",
      "The best cross validation error is 0.0164\n"
     ]
    }
   ],
   "source": [
    "best_d, best_s, best_e = np.unravel_index(cv_score.argmin(), cv_score.shape)\n",
    "print('The best parameters tuned by cross validation:')\n",
    "print('  {name}: {value}'.format(name='max_samples', value=max_samples[best_d]))\n",
    "print('  {name}: {value}'.format(name='max_features', value=max_features[best_s]))\n",
    "print('  {name}: {value}'.format(name='n_estimators', value=n_estimators[best_e]))\n",
    "print('The best cross validation error is {:.4f}'.format(cv_score.min()))"
   ]
  },
  {
   "cell_type": "code",
   "execution_count": 48,
   "metadata": {},
   "outputs": [],
   "source": [
    "best_ensembles.append(\n",
    "    BaggingRegressor(\n",
    "        base_estimator=LinearSVR(C=0.1),\n",
    "        max_samples=max_samples[best_d], \n",
    "        max_features=max_features[best_s], \n",
    "        n_estimators=n_estimators[best_e], \n",
    "        random_state=8848\n",
    "    )\n",
    ")"
   ]
  },
  {
   "cell_type": "markdown",
   "metadata": {},
   "source": [
    "### Summary"
   ]
  },
  {
   "cell_type": "code",
   "execution_count": 49,
   "metadata": {},
   "outputs": [
    {
     "data": {
      "text/plain": [
       "GradientBoostingRegressor             0.015077\n",
       "BaggingRegressor(LinearRegression)    0.015950\n",
       "BaggingRegressor(LinearSVR)           0.016282\n",
       "dtype: float64"
      ]
     },
     "execution_count": 49,
     "metadata": {},
     "output_type": "execute_result"
    }
   ],
   "source": [
    "np.random.seed(8848)\n",
    "table = {name(m): -cross_val_score(m, X_train, y_train, cv=NFOLDS, scoring='neg_mean_squared_error').mean() \n",
    "                     for m in best_ensembles}\n",
    "\n",
    "pd.Series(table).sort_values(ascending=True)"
   ]
  },
  {
   "cell_type": "markdown",
   "metadata": {},
   "source": [
    "# d. Stacking"
   ]
  },
  {
   "cell_type": "code",
   "execution_count": 50,
   "metadata": {},
   "outputs": [],
   "source": [
    "def get_oof(clf, x_train, y_train, x_test):\n",
    "    oof_train = np.zeros((ntrain,))\n",
    "    oof_test = np.zeros((ntest,))\n",
    "    oof_test_skf = np.empty((NFOLDS, ntest))\n",
    "\n",
    "    for i, (train_index, test_index) in enumerate(kf.split(x_train)):\n",
    "        x_tr = x_train[train_index]\n",
    "        y_tr = y_train[train_index]\n",
    "        x_te = x_train[test_index]\n",
    "\n",
    "        clf.fit(x_tr, y_tr)\n",
    "\n",
    "        oof_train[test_index] = clf.predict(x_te)\n",
    "        oof_test_skf[i, :] = clf.predict(x_test)\n",
    "\n",
    "    oof_test[:] = oof_test_skf.mean(axis=0)\n",
    "    return oof_train.reshape(-1, 1), oof_test.reshape(-1, 1)"
   ]
  },
  {
   "cell_type": "code",
   "execution_count": 70,
   "metadata": {},
   "outputs": [],
   "source": [
    "best_ensembles = []\n",
    "best_ensembles.append(\n",
    "    GradientBoostingRegressor(\n",
    "        max_depth=3, \n",
    "        min_samples_split=10, \n",
    "        n_estimators=150, \n",
    "        random_state=8848)\n",
    ")\n",
    "best_ensembles.append(\n",
    "    BaggingRegressor(\n",
    "        base_estimator=LinearRegression(),\n",
    "        max_samples=0.5, \n",
    "        max_features=0.8, \n",
    "        n_estimators=100, \n",
    "        random_state=8848\n",
    "    )\n",
    ")\n",
    "best_ensembles.append(\n",
    "    BaggingRegressor(\n",
    "        base_estimator=LinearSVR(C=0.1),\n",
    "        max_samples=0.5, \n",
    "        max_features=1, \n",
    "        n_estimators=150, \n",
    "        random_state=8848\n",
    "    )\n",
    ")"
   ]
  },
  {
   "cell_type": "code",
   "execution_count": 71,
   "metadata": {},
   "outputs": [],
   "source": [
    "from sklearn.model_selection import KFold\n",
    "ntrain = X_train.shape[0]\n",
    "ntest = X_test.shape[0]\n",
    "SEED = 0 # for reproducibility\n",
    "NFOLDS = 5 # set folds for out-of-fold prediction\n",
    "kf = KFold(n_splits= NFOLDS, random_state=SEED)\n",
    "\n",
    "meta_inputs = [get_oof(m, X_train, y_train, X_test) for m in best_ensembles]\n",
    "meta_train = np.concatenate([m[0] for m in meta_inputs], axis=1)\n",
    "meta_test = np.concatenate([m[1] for m in meta_inputs], axis=1)"
   ]
  },
  {
   "cell_type": "code",
   "execution_count": 72,
   "metadata": {},
   "outputs": [
    {
     "data": {
      "text/plain": [
       "0.014323755443403353"
      ]
     },
     "execution_count": 72,
     "metadata": {},
     "output_type": "execute_result"
    }
   ],
   "source": [
    "-cross_val_score(XGBRegressor(), meta_train, y_train, cv=NFOLDS, scoring='neg_mean_squared_error').mean()"
   ]
  },
  {
   "cell_type": "markdown",
   "metadata": {},
   "source": [
    "### Tune parameter of XGBoost"
   ]
  },
  {
   "cell_type": "code",
   "execution_count": 73,
   "metadata": {},
   "outputs": [
    {
     "data": {
      "text/plain": [
       "Text(17.06,0.5,'max_depth')"
      ]
     },
     "execution_count": 73,
     "metadata": {},
     "output_type": "execute_result"
    },
    {
     "data": {
      "image/png": "[encoded data removed]",
      "text/plain": [
       "<matplotlib.figure.Figure at 0x107c84390>"
      ]
     },
     "metadata": {},
     "output_type": "display_data"
    }
   ],
   "source": [
    "max_depth = [3, 5, 10]\n",
    "n_estimators = [50, 100, 150]\n",
    "cv_score = np.zeros([len(max_depth), len(n_estimators)])\n",
    "for di, d in enumerate(max_depth):\n",
    "    for si, s in enumerate(n_estimators):\n",
    "        dtr = XGBRegressor(max_depth=d, n_estimators=s, random_state=8848)\n",
    "        scores = cross_val_score(dtr, meta_train, y_train, cv=NFOLDS, scoring='neg_mean_squared_error')\n",
    "        cv_score[di, si] = -scores.mean()\n",
    "\n",
    "plt.title('Cross Validation Error', fontsize=15)\n",
    "sns.heatmap(cv_score, xticklabels=n_estimators, yticklabels=max_depth)\n",
    "plt.xlabel('n_estimators')\n",
    "plt.ylabel('max_depth')"
   ]
  },
  {
   "cell_type": "code",
   "execution_count": 74,
   "metadata": {},
   "outputs": [
    {
     "name": "stdout",
     "output_type": "stream",
     "text": [
      "The best parameters tuned by cross validation:\n",
      "  max_depth: 3\n",
      "  n_estimators: 100\n",
      "The best cross validation error is 0.0143\n"
     ]
    }
   ],
   "source": [
    "best_d, best_s = np.unravel_index(cv_score.argmin(), cv_score.shape)\n",
    "print('The best parameters tuned by cross validation:')\n",
    "print('  {name}: {value}'.format(name='max_depth', value=max_depth[best_d]))\n",
    "print('  {name}: {value}'.format(name='n_estimators', value=n_estimators[best_s]))\n",
    "print('The best cross validation error is {:.4f}'.format(cv_score.min()))"
   ]
  },
  {
   "cell_type": "markdown",
   "metadata": {},
   "source": [
    "## Final Results"
   ]
  },
  {
   "cell_type": "code",
   "execution_count": 75,
   "metadata": {},
   "outputs": [],
   "source": [
    "final_model = best_ensembles + [XGBRegressor(max_depth=max_depth[best_d], n_estimators=n_estimators[best_s], random_state=8848)]"
   ]
  },
  {
   "cell_type": "code",
   "execution_count": 76,
   "metadata": {},
   "outputs": [],
   "source": [
    "table = {name(m): predict_and_score(m, inputs) for m in final_model}"
   ]
  },
  {
   "cell_type": "code",
   "execution_count": 77,
   "metadata": {},
   "outputs": [
    {
     "data": {
      "text/plain": [
       "GradientBoostingRegressor             0.005490\n",
       "XGBRegressor                          0.007605\n",
       "BaggingRegressor(LinearRegression)    0.014463\n",
       "BaggingRegressor(LinearSVR)           0.100654\n",
       "dtype: float64"
      ]
     },
     "execution_count": 77,
     "metadata": {},
     "output_type": "execute_result"
    }
   ],
   "source": [
    "series_best_first(table)"
   ]
  },
  {
   "cell_type": "code",
   "execution_count": 78,
   "metadata": {},
   "outputs": [],
   "source": [
    "for m in final_model:\n",
    "    write_submission(np.expm1(table[name(m)][0]), name(m)+'_submission.csv')"
   ]
  }
 ],
 "metadata": {
  "kernelspec": {
   "display_name": "Python 3",
   "language": "python",
   "name": "python3"
  },
  "language_info": {
   "codemirror_mode": {
    "name": "ipython",
    "version": 3
   },
   "file_extension": ".py",
   "mimetype": "text/x-python",
   "name": "python",
   "nbconvert_exporter": "python",
   "pygments_lexer": "ipython3",
   "version": "3.6.5"
  }
 },
 "nbformat": 4,
 "nbformat_minor": 2
}
